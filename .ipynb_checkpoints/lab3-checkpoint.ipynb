{
 "cells": [
  {
   "cell_type": "code",
   "execution_count": 10,
   "id": "8e2fd61d",
   "metadata": {},
   "outputs": [
    {
     "name": "stdout",
     "output_type": "stream",
     "text": [
      "Input file path: test.html\n",
      "{'icebery@qip.ru', 'cezarikc@mail.ru', 'uglova93@mail.ru', 'alpotehinj@gmail.com', 'Konfetka13-94@mail.ru', 'maus19890503@mail.ru', 'vovik97_nsk@mail.ru', 'kimef11@yandex.ru', 'delluiza@yandex.ru', 'vladkazh@mail.ru'}\n"
     ]
    }
   ],
   "source": [
    "import regex as re\n",
    "import sys\n",
    "try:\n",
    "    html = open(input(\"Input file path: \"), encoding=\"utf8\").read()\n",
    "    pattern = r'([A-Z0-9\\.\\-\\_]+@[A-Z]+\\.[A-Z]+)'\n",
    "    print(set(re.findall(pattern, html, re.I)))\n",
    "except:\n",
    "    print(\"Error path\")"
   ]
  },
  {
   "cell_type": "code",
   "execution_count": null,
   "id": "f2e56310",
   "metadata": {},
   "outputs": [],
   "source": []
  }
 ],
 "metadata": {
  "kernelspec": {
   "display_name": "Python 3 (ipykernel)",
   "language": "python",
   "name": "python3"
  },
  "language_info": {
   "codemirror_mode": {
    "name": "ipython",
    "version": 3
   },
   "file_extension": ".py",
   "mimetype": "text/x-python",
   "name": "python",
   "nbconvert_exporter": "python",
   "pygments_lexer": "ipython3",
   "version": "3.9.13"
  }
 },
 "nbformat": 4,
 "nbformat_minor": 5
}
