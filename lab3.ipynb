{
 "cells": [
  {
   "cell_type": "code",
   "execution_count": 125,
   "id": "8e2fd61d",
   "metadata": {},
   "outputs": [
    {
     "data": {
      "text/plain": [
       "{'Konfetka13-94@mail.ru',\n",
       " 'alpotehinj@gmail.com',\n",
       " 'cezarikc@mail.ru',\n",
       " 'delluiza@yandex.ru',\n",
       " 'icebery@qip.ru',\n",
       " 'kimef11@yandex.ru',\n",
       " 'maus19890503@mail.ru',\n",
       " 'uglova93@mail.ru',\n",
       " 'vladkazh@mail.ru',\n",
       " 'vovik97_nsk@mail.ru'}"
      ]
     },
     "execution_count": 125,
     "metadata": {},
     "output_type": "execute_result"
    }
   ],
   "source": [
    "import regex as re\n",
    "html = open(\"test.txt\", encoding=\"utf8\").read()\n",
    "pattern = r'([A-Z0-9\\.\\-\\_]+@[A-Z]+\\.[A-Z]+)'\n",
    "set(re.findall(pattern, html, re.I))"
   ]
  },
  {
   "cell_type": "code",
   "execution_count": null,
   "id": "08113e40",
   "metadata": {},
   "outputs": [],
   "source": []
  }
 ],
 "metadata": {
  "kernelspec": {
   "display_name": "Python 3 (ipykernel)",
   "language": "python",
   "name": "python3"
  },
  "language_info": {
   "codemirror_mode": {
    "name": "ipython",
    "version": 3
   },
   "file_extension": ".py",
   "mimetype": "text/x-python",
   "name": "python",
   "nbconvert_exporter": "python",
   "pygments_lexer": "ipython3",
   "version": "3.9.13"
  }
 },
 "nbformat": 4,
 "nbformat_minor": 5
}
